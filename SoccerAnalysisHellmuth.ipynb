{
 "cells": [
  {
   "cell_type": "markdown",
   "id": "c237b75a",
   "metadata": {},
   "source": [
    "Install pandas package - STRICTLY SPEAKING THIS IS NOT NECESSARY HERE"
   ]
  },
  {
   "cell_type": "code",
   "execution_count": 66,
   "id": "ed09d0f4",
   "metadata": {},
   "outputs": [
    {
     "name": "stdout",
     "output_type": "stream",
     "text": [
      "Requirement already satisfied: pandas in /home/hellmuth/.pyenv/versions/3.10.6/envs/lewagon/lib/python3.10/site-packages (1.4.4)\n",
      "Requirement already satisfied: python-dateutil>=2.8.1 in /home/hellmuth/.pyenv/versions/3.10.6/envs/lewagon/lib/python3.10/site-packages (from pandas) (2.8.2)\n",
      "Requirement already satisfied: pytz>=2020.1 in /home/hellmuth/.pyenv/versions/3.10.6/envs/lewagon/lib/python3.10/site-packages (from pandas) (2022.1)\n",
      "Requirement already satisfied: numpy>=1.21.0 in /home/hellmuth/.pyenv/versions/3.10.6/envs/lewagon/lib/python3.10/site-packages (from pandas) (1.23.4)\n",
      "Requirement already satisfied: six>=1.5 in /home/hellmuth/.pyenv/versions/3.10.6/envs/lewagon/lib/python3.10/site-packages (from python-dateutil>=2.8.1->pandas) (1.16.0)\n",
      "Note: you may need to restart the kernel to use updated packages.\n"
     ]
    }
   ],
   "source": [
    "pip install pandas"
   ]
  },
  {
   "cell_type": "markdown",
   "id": "54d19176",
   "metadata": {},
   "source": [
    "Import pandas"
   ]
  },
  {
   "cell_type": "code",
   "execution_count": 67,
   "id": "8120c3b5",
   "metadata": {},
   "outputs": [],
   "source": [
    "import pandas as pd"
   ]
  },
  {
   "cell_type": "markdown",
   "id": "f1d88000",
   "metadata": {},
   "source": [
    "Read the CSV file into a pandas DataFrame"
   ]
  },
  {
   "cell_type": "code",
   "execution_count": 68,
   "id": "10e2091b",
   "metadata": {},
   "outputs": [],
   "source": [
    "df = pd.read_csv('results.csv')"
   ]
  },
  {
   "cell_type": "markdown",
   "id": "39278594",
   "metadata": {},
   "source": [
    "Display the first few rows of the DataFrame"
   ]
  },
  {
   "cell_type": "code",
   "execution_count": 69,
   "id": "bf61f83a",
   "metadata": {},
   "outputs": [
    {
     "data": {
      "text/html": [
       "<div>\n",
       "<style scoped>\n",
       "    .dataframe tbody tr th:only-of-type {\n",
       "        vertical-align: middle;\n",
       "    }\n",
       "\n",
       "    .dataframe tbody tr th {\n",
       "        vertical-align: top;\n",
       "    }\n",
       "\n",
       "    .dataframe thead th {\n",
       "        text-align: right;\n",
       "    }\n",
       "</style>\n",
       "<table border=\"1\" class=\"dataframe\">\n",
       "  <thead>\n",
       "    <tr style=\"text-align: right;\">\n",
       "      <th></th>\n",
       "      <th>date</th>\n",
       "      <th>home_team</th>\n",
       "      <th>away_team</th>\n",
       "      <th>home_score</th>\n",
       "      <th>away_score</th>\n",
       "      <th>tournament</th>\n",
       "      <th>city</th>\n",
       "      <th>country</th>\n",
       "      <th>neutral</th>\n",
       "    </tr>\n",
       "  </thead>\n",
       "  <tbody>\n",
       "    <tr>\n",
       "      <th>0</th>\n",
       "      <td>1872-11-30</td>\n",
       "      <td>Scotland</td>\n",
       "      <td>England</td>\n",
       "      <td>0</td>\n",
       "      <td>0</td>\n",
       "      <td>Friendly</td>\n",
       "      <td>Glasgow</td>\n",
       "      <td>Scotland</td>\n",
       "      <td>False</td>\n",
       "    </tr>\n",
       "    <tr>\n",
       "      <th>1</th>\n",
       "      <td>1873-03-08</td>\n",
       "      <td>England</td>\n",
       "      <td>Scotland</td>\n",
       "      <td>4</td>\n",
       "      <td>2</td>\n",
       "      <td>Friendly</td>\n",
       "      <td>London</td>\n",
       "      <td>England</td>\n",
       "      <td>False</td>\n",
       "    </tr>\n",
       "    <tr>\n",
       "      <th>2</th>\n",
       "      <td>1874-03-07</td>\n",
       "      <td>Scotland</td>\n",
       "      <td>England</td>\n",
       "      <td>2</td>\n",
       "      <td>1</td>\n",
       "      <td>Friendly</td>\n",
       "      <td>Glasgow</td>\n",
       "      <td>Scotland</td>\n",
       "      <td>False</td>\n",
       "    </tr>\n",
       "    <tr>\n",
       "      <th>3</th>\n",
       "      <td>1875-03-06</td>\n",
       "      <td>England</td>\n",
       "      <td>Scotland</td>\n",
       "      <td>2</td>\n",
       "      <td>2</td>\n",
       "      <td>Friendly</td>\n",
       "      <td>London</td>\n",
       "      <td>England</td>\n",
       "      <td>False</td>\n",
       "    </tr>\n",
       "    <tr>\n",
       "      <th>4</th>\n",
       "      <td>1876-03-04</td>\n",
       "      <td>Scotland</td>\n",
       "      <td>England</td>\n",
       "      <td>3</td>\n",
       "      <td>0</td>\n",
       "      <td>Friendly</td>\n",
       "      <td>Glasgow</td>\n",
       "      <td>Scotland</td>\n",
       "      <td>False</td>\n",
       "    </tr>\n",
       "  </tbody>\n",
       "</table>\n",
       "</div>"
      ],
      "text/plain": [
       "         date home_team away_team  home_score  away_score tournament     city  \\\n",
       "0  1872-11-30  Scotland   England           0           0   Friendly  Glasgow   \n",
       "1  1873-03-08   England  Scotland           4           2   Friendly   London   \n",
       "2  1874-03-07  Scotland   England           2           1   Friendly  Glasgow   \n",
       "3  1875-03-06   England  Scotland           2           2   Friendly   London   \n",
       "4  1876-03-04  Scotland   England           3           0   Friendly  Glasgow   \n",
       "\n",
       "    country  neutral  \n",
       "0  Scotland    False  \n",
       "1   England    False  \n",
       "2  Scotland    False  \n",
       "3   England    False  \n",
       "4  Scotland    False  "
      ]
     },
     "execution_count": 69,
     "metadata": {},
     "output_type": "execute_result"
    }
   ],
   "source": [
    "df.head()"
   ]
  },
  {
   "cell_type": "code",
   "execution_count": 71,
   "id": "137c7165",
   "metadata": {},
   "outputs": [
    {
     "name": "stdout",
     "output_type": "stream",
     "text": [
      "First match Germany played: 1908-04-05\n"
     ]
    }
   ],
   "source": [
    "import pandas as pd\n",
    "\n",
    "# Assuming your dataframe is named 'df'\n",
    "# Filter the dataframe to include matches where Germany played\n",
    "germany_matches = df[(df['home_team'] == 'Germany') | (df['away_team'] == 'Germany')]\n",
    "\n",
    "# Find the earliest date\n",
    "first_germany_match = germany_matches['date'].min()\n",
    "\n",
    "print(\"First match Germany played:\", first_germany_match)\n"
   ]
  },
  {
   "cell_type": "code",
   "execution_count": 75,
   "id": "67468e2f",
   "metadata": {},
   "outputs": [
    {
     "name": "stdout",
     "output_type": "stream",
     "text": [
      "First 20 nations to have played international matches:\n",
      "England - 1872-11-30\n",
      "Scotland - 1872-11-30\n",
      "Wales - 1876-03-25\n",
      "Northern Ireland - 1882-02-18\n",
      "Canada - 1885-11-28\n",
      "United States - 1885-11-28\n",
      "Uruguay - 1902-07-20\n",
      "Argentina - 1902-07-20\n",
      "Hungary - 1902-10-12\n",
      "Austria - 1902-10-12\n",
      "Czechoslovakia - 1903-04-05\n",
      "Belgium - 1904-05-01\n",
      "France - 1904-05-01\n",
      "Switzerland - 1905-02-12\n",
      "Guernsey - 1905-04-17\n",
      "Alderney - 1905-04-17\n",
      "Jersey - 1905-04-27\n",
      "Netherlands - 1905-04-30\n",
      "Germany - 1908-04-05\n",
      "Norway - 1908-07-12\n"
     ]
    }
   ],
   "source": [
    "# Extract unique team names from both home_team and away_team columns\n",
    "teams_home = df['home_team'].unique()\n",
    "teams_away = df['away_team'].unique()\n",
    "\n",
    "# Combine unique team names from both columns\n",
    "all_teams = set(list(teams_home) + list(teams_away))\n",
    "\n",
    "# Create a dictionary to store the earliest appearance of each team\n",
    "earliest_appearances = {}\n",
    "\n",
    "# Iterate over each team to find its earliest appearance\n",
    "for team in all_teams:\n",
    "    team_matches = df[(df['home_team'] == team) | (df['away_team'] == team)]\n",
    "    earliest_appearance = team_matches['date'].min()\n",
    "    earliest_appearances[team] = earliest_appearance\n",
    "\n",
    "# Sort the dictionary by the earliest appearance and extract the first 20 teams\n",
    "first_20_teams = sorted(earliest_appearances, key=earliest_appearances.get)[:20]\n",
    "\n",
    "print(\"First 20 nations to have played international matches:\")\n",
    "for team in first_20_teams:\n",
    "    print(team, \"-\", earliest_appearances[team])\n"
   ]
  },
  {
   "cell_type": "markdown",
   "id": "e38b5f84",
   "metadata": {},
   "source": [
    "Some preliminary data analysis"
   ]
  },
  {
   "cell_type": "code",
   "execution_count": null,
   "id": "c017e798",
   "metadata": {},
   "outputs": [],
   "source": []
  },
  {
   "cell_type": "code",
   "execution_count": 70,
   "id": "5a70c339",
   "metadata": {},
   "outputs": [
    {
     "data": {
      "text/plain": [
       "date          object\n",
       "home_team     object\n",
       "away_team     object\n",
       "home_score     int64\n",
       "away_score     int64\n",
       "tournament    object\n",
       "city          object\n",
       "country       object\n",
       "neutral         bool\n",
       "dtype: object"
      ]
     },
     "execution_count": 70,
     "metadata": {},
     "output_type": "execute_result"
    }
   ],
   "source": [
    "df.dtypes #check data types\n"
   ]
  },
  {
   "cell_type": "code",
   "execution_count": 22,
   "id": "cbeda46f",
   "metadata": {},
   "outputs": [
    {
     "data": {
      "text/html": [
       "<div>\n",
       "<style scoped>\n",
       "    .dataframe tbody tr th:only-of-type {\n",
       "        vertical-align: middle;\n",
       "    }\n",
       "\n",
       "    .dataframe tbody tr th {\n",
       "        vertical-align: top;\n",
       "    }\n",
       "\n",
       "    .dataframe thead th {\n",
       "        text-align: right;\n",
       "    }\n",
       "</style>\n",
       "<table border=\"1\" class=\"dataframe\">\n",
       "  <thead>\n",
       "    <tr style=\"text-align: right;\">\n",
       "      <th></th>\n",
       "      <th>home_score</th>\n",
       "      <th>away_score</th>\n",
       "    </tr>\n",
       "  </thead>\n",
       "  <tbody>\n",
       "    <tr>\n",
       "      <th>count</th>\n",
       "      <td>45640.000000</td>\n",
       "      <td>45640.000000</td>\n",
       "    </tr>\n",
       "    <tr>\n",
       "      <th>mean</th>\n",
       "      <td>1.747677</td>\n",
       "      <td>1.181836</td>\n",
       "    </tr>\n",
       "    <tr>\n",
       "      <th>std</th>\n",
       "      <td>1.756628</td>\n",
       "      <td>1.395057</td>\n",
       "    </tr>\n",
       "    <tr>\n",
       "      <th>min</th>\n",
       "      <td>0.000000</td>\n",
       "      <td>0.000000</td>\n",
       "    </tr>\n",
       "    <tr>\n",
       "      <th>25%</th>\n",
       "      <td>1.000000</td>\n",
       "      <td>0.000000</td>\n",
       "    </tr>\n",
       "    <tr>\n",
       "      <th>50%</th>\n",
       "      <td>1.000000</td>\n",
       "      <td>1.000000</td>\n",
       "    </tr>\n",
       "    <tr>\n",
       "      <th>75%</th>\n",
       "      <td>2.000000</td>\n",
       "      <td>2.000000</td>\n",
       "    </tr>\n",
       "    <tr>\n",
       "      <th>max</th>\n",
       "      <td>31.000000</td>\n",
       "      <td>21.000000</td>\n",
       "    </tr>\n",
       "  </tbody>\n",
       "</table>\n",
       "</div>"
      ],
      "text/plain": [
       "         home_score    away_score\n",
       "count  45640.000000  45640.000000\n",
       "mean       1.747677      1.181836\n",
       "std        1.756628      1.395057\n",
       "min        0.000000      0.000000\n",
       "25%        1.000000      0.000000\n",
       "50%        1.000000      1.000000\n",
       "75%        2.000000      2.000000\n",
       "max       31.000000     21.000000"
      ]
     },
     "execution_count": 22,
     "metadata": {},
     "output_type": "execute_result"
    }
   ],
   "source": [
    "df.describe() #summary statistics for numerical columns."
   ]
  },
  {
   "cell_type": "code",
   "execution_count": 23,
   "id": "49a0ea23",
   "metadata": {},
   "outputs": [
    {
     "data": {
      "text/plain": [
       "date          0\n",
       "home_team     0\n",
       "away_team     0\n",
       "home_score    0\n",
       "away_score    0\n",
       "tournament    0\n",
       "city          0\n",
       "country       0\n",
       "neutral       0\n",
       "dtype: int64"
      ]
     },
     "execution_count": 23,
     "metadata": {},
     "output_type": "execute_result"
    }
   ],
   "source": [
    "df.isnull().sum() # Check for missing values"
   ]
  },
  {
   "cell_type": "code",
   "execution_count": 24,
   "id": "4051a17d",
   "metadata": {},
   "outputs": [
    {
     "data": {
      "text/plain": [
       "array(['Friendly', 'British Home Championship', 'Évence Coppée Trophy',\n",
       "       'Muratti Vase', 'Copa Lipton', 'Copa Newton',\n",
       "       'Copa Premio Honor Argentino', 'Copa Premio Honor Uruguayo',\n",
       "       'Copa Roca', 'Copa América', 'Peace Cup',\n",
       "       'Copa Chevallier Boutell', 'Olympic Games', 'Nordic Championship',\n",
       "       'Central European International Cup', 'Baltic Cup', 'Balkan Cup',\n",
       "       'FIFA World Cup', 'Copa Rio Branco',\n",
       "       'FIFA World Cup qualification', 'Bolivarian Games',\n",
       "       'CCCF Championship', 'NAFC Championship', 'Copa Oswaldo Cruz',\n",
       "       'Pan American Championship', 'Copa del Pacífico',\n",
       "       \"Copa Bernardo O'Higgins\", 'AFC Asian Cup qualification',\n",
       "       'Atlantic Cup', 'AFC Asian Cup', 'African Cup of Nations',\n",
       "       'Copa Paz del Chaco', 'Merdeka Tournament',\n",
       "       'UEFA Euro qualification', 'UEFA Euro',\n",
       "       'Windward Islands Tournament',\n",
       "       'African Cup of Nations qualification', 'Vietnam Independence Cup',\n",
       "       'Copa Carlos Dittborn', 'Phillip Seaga Cup',\n",
       "       'CONCACAF Championship', 'Copa Juan Pinto Durán', 'Arab Cup',\n",
       "       'South Pacific Games', 'CONCACAF Championship qualification',\n",
       "       'Copa Artigas', 'GaNEFo', \"King's Cup\", 'Gulf Cup',\n",
       "       'Indonesia Tournament', 'Korea Cup', 'Palestine Cup',\n",
       "       'Brazil Independence Cup', 'Copa Ramón Castilla',\n",
       "       'Oceania Nations Cup', 'CECAFA Cup', 'Kuneitra Cup',\n",
       "       'Copa Félix Bogado', 'Real Madrid 75th Anniversary Cup',\n",
       "       'Beijing International Friendship Tournament', 'Kirin Cup',\n",
       "       'CFU Caribbean Cup qualification', 'CFU Caribbean Cup',\n",
       "       'Amílcar Cabral Cup', 'FIFA 75th Anniversary Cup',\n",
       "       'Guangzhou International Friendship Tournament', 'Mundialito',\n",
       "       'West African Cup', 'Nehru Cup', 'Merlion Cup', 'Great Wall Cup',\n",
       "       'UDEAC Cup', 'Rous Cup', 'CONMEBOL–UEFA Cup of Champions',\n",
       "       'Miami Cup', 'Lunar New Year Cup', 'Arab Cup qualification',\n",
       "       'Tournoi de France', 'Malta International Tournament',\n",
       "       'Four Nations Tournament', 'Matthews Cup',\n",
       "       'Tournament Burkina Faso', 'Marlboro Cup', 'Island Games',\n",
       "       'NAFU Championship', 'Dynasty Cup', 'Dakar Tournament',\n",
       "       'UNCAF Cup', 'Scania 100 Tournament', 'Gold Cup', 'USA Cup',\n",
       "       'Jordan International Tournament', 'Confederations Cup',\n",
       "       'United Arab Emirates Friendship Tournament', 'Joe Robbie Cup',\n",
       "       'Oceania Nations Cup qualification', 'Simba Tournament',\n",
       "       'SAFF Cup', 'AFF Championship', 'King Hassan II Tournament',\n",
       "       'Cyprus International Tournament', 'Dunhill Cup',\n",
       "       'COSAFA Cup qualification', 'COSAFA Cup', 'Gold Cup qualification',\n",
       "       'AFF Championship qualification', 'SKN Football Festival',\n",
       "       'UNIFFAC Cup', 'WAFF Championship', 'Millennium Cup',\n",
       "       'Cup of Ancient Civilizations', \"Prime Minister's Cup\",\n",
       "       'The Other Final', 'EAFF Championship', 'TIFOCO Tournament',\n",
       "       'Afro-Asian Games', 'AFC Challenge Cup', 'FIFI Wild Cup',\n",
       "       'ELF Cup', 'Viva World Cup', 'AFC Challenge Cup qualification',\n",
       "       'VFF Cup', 'Dragon Cup', 'ABCS Tournament',\n",
       "       'Nile Basin Tournament', 'Nations Cup', 'Copa Confraternidad',\n",
       "       'Pacific Games', 'Superclásico de las Américas',\n",
       "       'Africa Cup of Nations qualification', 'Kirin Challenge Cup',\n",
       "       'Tynwald Hill Tournament', 'OSN Cup', 'CONIFA World Football Cup',\n",
       "       'Niamh Challenge Cup', 'CONIFA European Football Cup',\n",
       "       'Benedikt Fontana Cup', 'Copa América qualification',\n",
       "       'ConIFA Challenger Cup', 'Hungary Heritage Cup', 'World Unity Cup',\n",
       "       'Pacific Mini Games', 'Intercontinental Cup',\n",
       "       'UEFA Nations League', 'CONCACAF Nations League qualification',\n",
       "       'Atlantic Heritage Cup', 'Inter Games Football Tournament',\n",
       "       'CONCACAF Nations League', 'Three Nations Cup',\n",
       "       'Mahinda Rajapaksa Cup', 'Navruz Cup',\n",
       "       'CONIFA Africa Football Cup', 'CONIFA South America Football Cup',\n",
       "       \"MSG Prime Minister's Cup\", 'Tri Nation Tournament',\n",
       "       'CAFA Nations Cup', 'Mauritius Four Nations Cup',\n",
       "       'CONIFA World Football Cup qualification', 'CONIFA Asia Cup'],\n",
       "      dtype=object)"
      ]
     },
     "execution_count": 24,
     "metadata": {},
     "output_type": "execute_result"
    }
   ],
   "source": [
    "df['tournament'].unique() #Check the unique values in categorical columns"
   ]
  },
  {
   "cell_type": "code",
   "execution_count": 25,
   "id": "d2363733",
   "metadata": {},
   "outputs": [
    {
     "name": "stdout",
     "output_type": "stream",
     "text": [
      "1872       1\n",
      "1873       1\n",
      "1874       1\n",
      "1875       1\n",
      "1876       2\n",
      "        ... \n",
      "2020     348\n",
      "2021    1090\n",
      "2022     923\n",
      "2023     980\n",
      "2024     148\n",
      "Name: year, Length: 153, dtype: int64\n"
     ]
    }
   ],
   "source": [
    "#number of matches played each year.\n",
    "df['date'] = pd.to_datetime(df['date'])\n",
    "df['year'] = df['date'].dt.year\n",
    "matches_per_year = df['year'].value_counts().sort_index()\n",
    "print(matches_per_year)"
   ]
  },
  {
   "cell_type": "code",
   "execution_count": 26,
   "id": "b5b00e76",
   "metadata": {},
   "outputs": [
    {
     "name": "stdout",
     "output_type": "stream",
     "text": [
      "1.7476774758983349\n",
      "1.1818361086765994\n"
     ]
    }
   ],
   "source": [
    "avg_home_goals = df['home_score'].mean()\n",
    "avg_away_goals = df['away_score'].mean()\n",
    "print(avg_home_goals)\n",
    "print(avg_away_goals)"
   ]
  },
  {
   "cell_type": "code",
   "execution_count": 27,
   "id": "7a910d56",
   "metadata": {},
   "outputs": [
    {
     "name": "stdout",
     "output_type": "stream",
     "text": [
      "Friendly                                17818\n",
      "FIFA World Cup qualification             8013\n",
      "UEFA Euro qualification                  2815\n",
      "African Cup of Nations qualification     2116\n",
      "FIFA World Cup                            964\n",
      "Copa América                              841\n",
      "African Cup of Nations                    793\n",
      "AFC Asian Cup qualification               764\n",
      "CECAFA Cup                                620\n",
      "CFU Caribbean Cup qualification           606\n",
      "Name: tournament, dtype: int64\n"
     ]
    }
   ],
   "source": [
    "tournament_counts = df['tournament'].value_counts().head(10)\n",
    "print(tournament_counts)"
   ]
  },
  {
   "cell_type": "code",
   "execution_count": 28,
   "id": "bb6c76f2",
   "metadata": {},
   "outputs": [
    {
     "name": "stdout",
     "output_type": "stream",
     "text": [
      "          home_team     away_team  home_score  away_score  goal_difference\n",
      "0          Scotland       England           0           0                0\n",
      "1           England      Scotland           4           2                2\n",
      "2          Scotland       England           2           1                1\n",
      "3           England      Scotland           2           2                0\n",
      "4          Scotland       England           3           0                3\n",
      "...             ...           ...         ...         ...              ...\n",
      "45635   Ivory Coast      DR Congo           1           0                1\n",
      "45636       Nigeria  South Africa           1           1                0\n",
      "45637         Qatar        Jordan           3           1                2\n",
      "45638  South Africa      DR Congo           0           0                0\n",
      "45639   Ivory Coast       Nigeria           2           1                1\n",
      "\n",
      "[45640 rows x 5 columns]\n"
     ]
    }
   ],
   "source": [
    "# Calculate goal difference\n",
    "df['goal_difference'] = df['home_score'] - df['away_score']\n",
    "\n",
    "# Display the DataFrame with goal difference\n",
    "print(df[['home_team', 'away_team', 'home_score', 'away_score', 'goal_difference']])\n"
   ]
  },
  {
   "cell_type": "code",
   "execution_count": 29,
   "id": "57adede2",
   "metadata": {},
   "outputs": [
    {
     "name": "stdout",
     "output_type": "stream",
     "text": [
      "          home_team     away_team  home_score  away_score winning_team\n",
      "0          Scotland       England           0           0         Draw\n",
      "1           England      Scotland           4           2         Home\n",
      "2          Scotland       England           2           1         Home\n",
      "3           England      Scotland           2           2         Draw\n",
      "4          Scotland       England           3           0         Home\n",
      "...             ...           ...         ...         ...          ...\n",
      "45635   Ivory Coast      DR Congo           1           0         Home\n",
      "45636       Nigeria  South Africa           1           1         Draw\n",
      "45637         Qatar        Jordan           3           1         Home\n",
      "45638  South Africa      DR Congo           0           0         Draw\n",
      "45639   Ivory Coast       Nigeria           2           1         Home\n",
      "\n",
      "[45640 rows x 5 columns]\n"
     ]
    }
   ],
   "source": [
    "# Function to determine winning team or draw\n",
    "def determine_winner(home_score, away_score):\n",
    "    if home_score > away_score:\n",
    "        return 'Home'\n",
    "    elif away_score > home_score:\n",
    "        return 'Away'\n",
    "    else:\n",
    "        return 'Draw'\n",
    "\n",
    "# Apply the function to each row to create a new column\n",
    "df['winning_team'] = df.apply(lambda row: determine_winner(row['home_score'], row['away_score']), axis=1)\n",
    "\n",
    "# Display the DataFrame with winning team information\n",
    "print(df[['home_team', 'away_team', 'home_score', 'away_score', 'winning_team']])"
   ]
  },
  {
   "cell_type": "code",
   "execution_count": 30,
   "id": "7787fb20",
   "metadata": {},
   "outputs": [
    {
     "name": "stdout",
     "output_type": "stream",
     "text": [
      "Home    48.805872\n",
      "Away    28.315074\n",
      "Draw    22.879053\n",
      "Name: winning_team, dtype: float64\n"
     ]
    }
   ],
   "source": [
    "# Calculate value counts of winning teams\n",
    "winning_team_counts = df['winning_team'].value_counts()\n",
    "\n",
    "# Calculate percentages\n",
    "winning_team_percentages = (winning_team_counts / len(df)) * 100\n",
    "\n",
    "# Display percentages\n",
    "print(winning_team_percentages)"
   ]
  },
  {
   "cell_type": "code",
   "execution_count": 31,
   "id": "6ca3ec11",
   "metadata": {},
   "outputs": [
    {
     "name": "stdout",
     "output_type": "stream",
     "text": [
      "Home    50.648137\n",
      "Away    26.433493\n",
      "Draw    22.918370\n",
      "Name: winning_team, dtype: float64\n"
     ]
    }
   ],
   "source": [
    "# Filter out matches where the home team has the true home advantage\n",
    "true_home_matches = df[df['neutral'] == False]\n",
    "\n",
    "# Calculate value counts of winning teams for true home matches\n",
    "true_home_winning_counts = true_home_matches['winning_team'].value_counts()\n",
    "\n",
    "# Calculate percentages for true home matches\n",
    "true_home_winning_percentages = (true_home_winning_counts / len(true_home_matches)) * 100\n",
    "\n",
    "# Display percentages\n",
    "print(true_home_winning_percentages)\n"
   ]
  },
  {
   "cell_type": "code",
   "execution_count": 35,
   "id": "0341fbe5",
   "metadata": {},
   "outputs": [
    {
     "name": "stdout",
     "output_type": "stream",
     "text": [
      "              Wins  Draws  Losses  Goals Scored  Goals Conceded  Win Ratio  \\\n",
      "Brazil         659    207     166          2256             928   0.638566   \n",
      "England        605    253     201          2321            1023   0.571294   \n",
      "Germany        578    208     213          2233            1164   0.578579   \n",
      "Argentina      567    254     216          1957            1061   0.546770   \n",
      "Sweden         529    229     313          2107            1368   0.493931   \n",
      "...            ...    ...     ...           ...             ...        ...   \n",
      "Vatican City     0      3       4             4              17   0.000000   \n",
      "Ryūkyū           0      0       1             0               9   0.000000   \n",
      "Manchukuo        0      0       3             0              16   0.000000   \n",
      "Mayotte          0      4       3             6              11   0.000000   \n",
      "Kiribati         0      1      10             7             126   0.000000   \n",
      "\n",
      "              Draw Ratio  Loss Ratio  \n",
      "Brazil          0.200581    0.160853  \n",
      "England         0.238905    0.189802  \n",
      "Germany         0.208208    0.213213  \n",
      "Argentina       0.244937    0.208293  \n",
      "Sweden          0.213819    0.292250  \n",
      "...                  ...         ...  \n",
      "Vatican City    0.428571    0.571429  \n",
      "Ryūkyū          0.000000    1.000000  \n",
      "Manchukuo       0.000000    1.000000  \n",
      "Mayotte         0.571429    0.428571  \n",
      "Kiribati        0.090909    0.909091  \n",
      "\n",
      "[332 rows x 8 columns]\n"
     ]
    }
   ],
   "source": [
    "import pandas as pd\n",
    "\n",
    "# Calculate team statistics\n",
    "team_statistics = {}\n",
    "\n",
    "# Iterate through each match\n",
    "for index, match in df.iterrows():\n",
    "    home_team = match['home_team']\n",
    "    away_team = match['away_team']\n",
    "    home_score = match['home_score']\n",
    "    away_score = match['away_score']\n",
    "    winner = match['winning_team']\n",
    "    \n",
    "    # Update home team statistics\n",
    "    if home_team not in team_statistics:\n",
    "        team_statistics[home_team] = {'Wins': 0, 'Draws': 0, 'Losses': 0, 'Goals Scored': 0, 'Goals Conceded': 0}\n",
    "    if winner == 'Home':\n",
    "        team_statistics[home_team]['Wins'] += 1\n",
    "    elif winner == 'Draw':\n",
    "        team_statistics[home_team]['Draws'] += 1\n",
    "    else:\n",
    "        team_statistics[home_team]['Losses'] += 1\n",
    "    team_statistics[home_team]['Goals Scored'] += home_score\n",
    "    team_statistics[home_team]['Goals Conceded'] += away_score\n",
    "    \n",
    "    # Update away team statistics\n",
    "    if away_team not in team_statistics:\n",
    "        team_statistics[away_team] = {'Wins': 0, 'Draws': 0, 'Losses': 0, 'Goals Scored': 0, 'Goals Conceded': 0}\n",
    "    if winner == 'Away':\n",
    "        team_statistics[away_team]['Wins'] += 1\n",
    "    elif winner == 'Draw':\n",
    "        team_statistics[away_team]['Draws'] += 1\n",
    "    else:\n",
    "        team_statistics[away_team]['Losses'] += 1\n",
    "    team_statistics[away_team]['Goals Scored'] += away_score\n",
    "    team_statistics[away_team]['Goals Conceded'] += home_score\n",
    "\n",
    "# Convert team statistics to DataFrame\n",
    "team_df = pd.DataFrame(team_statistics).transpose()\n",
    "\n",
    "# Calculate additional metrics\n",
    "team_df['Total Matches'] = team_df['Wins'] + team_df['Draws'] + team_df['Losses']\n",
    "team_df['Win Ratio'] = team_df['Wins'] / team_df['Total Matches']\n",
    "team_df['Draw Ratio'] = team_df['Draws'] / team_df['Total Matches']\n",
    "team_df['Loss Ratio'] = team_df['Losses'] / team_df['Total Matches']\n",
    "\n",
    "# Sort DataFrame by wins (descending order) to find most successful teams\n",
    "most_successful_teams = team_df.sort_values(by='Wins', ascending=False)\n",
    "\n",
    "# Display most successful teams\n",
    "print(most_successful_teams[['Wins', 'Draws', 'Losses', 'Goals Scored', 'Goals Conceded', 'Win Ratio', 'Draw Ratio', 'Loss Ratio']])\n"
   ]
  },
  {
   "cell_type": "code",
   "execution_count": 36,
   "id": "f8a5b853",
   "metadata": {},
   "outputs": [
    {
     "name": "stdout",
     "output_type": "stream",
     "text": [
      "             Wins  Draws  Losses  Goals Scored  Goals Conceded  Win Ratio  \\\n",
      "Brazil        623    194     138          2095             789   0.652356   \n",
      "South Korea   486    239     197          1615             832   0.527115   \n",
      "Germany       480    174     156          1736             830   0.592593   \n",
      "Mexico        476    219     238          1609             944   0.510182   \n",
      "England       468    216     150          1650             730   0.561151   \n",
      "...           ...    ...     ...           ...             ...        ...   \n",
      "Găgăuzia        0      1       2             2               9   0.000000   \n",
      "Cilento         0      0       1             0               2   0.000000   \n",
      "Darfur          0      0       7             1              99   0.000000   \n",
      "Madrid          0      0       1             1               2   0.000000   \n",
      "Tibet           0      2      14            14              66   0.000000   \n",
      "\n",
      "             Draw Ratio  Loss Ratio  \n",
      "Brazil         0.203141    0.144503  \n",
      "South Korea    0.259219    0.213666  \n",
      "Germany        0.214815    0.192593  \n",
      "Mexico         0.234727    0.255091  \n",
      "England        0.258993    0.179856  \n",
      "...                 ...         ...  \n",
      "Găgăuzia       0.333333    0.666667  \n",
      "Cilento        0.000000    1.000000  \n",
      "Darfur         0.000000    1.000000  \n",
      "Madrid         0.000000    1.000000  \n",
      "Tibet          0.125000    0.875000  \n",
      "\n",
      "[329 rows x 8 columns]\n"
     ]
    }
   ],
   "source": [
    "import pandas as pd\n",
    "\n",
    "# Filter matches played since 1945\n",
    "df_since_1945 = df[pd.to_datetime(df['date']).dt.year >= 1945]\n",
    "\n",
    "# Calculate team statistics\n",
    "team_statistics = {}\n",
    "\n",
    "# Iterate through each match since 1945\n",
    "for index, match in df_since_1945.iterrows():\n",
    "    home_team = match['home_team']\n",
    "    away_team = match['away_team']\n",
    "    home_score = match['home_score']\n",
    "    away_score = match['away_score']\n",
    "    winner = match['winning_team']\n",
    "    \n",
    "    # Update home team statistics\n",
    "    if home_team not in team_statistics:\n",
    "        team_statistics[home_team] = {'Wins': 0, 'Draws': 0, 'Losses': 0, 'Goals Scored': 0, 'Goals Conceded': 0}\n",
    "    if winner == 'Home':\n",
    "        team_statistics[home_team]['Wins'] += 1\n",
    "    elif winner == 'Draw':\n",
    "        team_statistics[home_team]['Draws'] += 1\n",
    "    else:\n",
    "        team_statistics[home_team]['Losses'] += 1\n",
    "    team_statistics[home_team]['Goals Scored'] += home_score\n",
    "    team_statistics[home_team]['Goals Conceded'] += away_score\n",
    "    \n",
    "    # Update away team statistics\n",
    "    if away_team not in team_statistics:\n",
    "        team_statistics[away_team] = {'Wins': 0, 'Draws': 0, 'Losses': 0, 'Goals Scored': 0, 'Goals Conceded': 0}\n",
    "    if winner == 'Away':\n",
    "        team_statistics[away_team]['Wins'] += 1\n",
    "    elif winner == 'Draw':\n",
    "        team_statistics[away_team]['Draws'] += 1\n",
    "    else:\n",
    "        team_statistics[away_team]['Losses'] += 1\n",
    "    team_statistics[away_team]['Goals Scored'] += away_score\n",
    "    team_statistics[away_team]['Goals Conceded'] += home_score\n",
    "\n",
    "# Convert team statistics to DataFrame\n",
    "team_df = pd.DataFrame(team_statistics).transpose()\n",
    "\n",
    "# Calculate additional metrics\n",
    "team_df['Total Matches'] = team_df['Wins'] + team_df['Draws'] + team_df['Losses']\n",
    "team_df['Win Ratio'] = team_df['Wins'] / team_df['Total Matches']\n",
    "team_df['Draw Ratio'] = team_df['Draws'] / team_df['Total Matches']\n",
    "team_df['Loss Ratio'] = team_df['Losses'] / team_df['Total Matches']\n",
    "\n",
    "# Sort DataFrame by wins (descending order) to find most successful teams\n",
    "most_successful_teams = team_df.sort_values(by='Wins', ascending=False)\n",
    "\n",
    "# Display most successful teams\n",
    "print(most_successful_teams[['Wins', 'Draws', 'Losses', 'Goals Scored', 'Goals Conceded', 'Win Ratio', 'Draw Ratio', 'Loss Ratio']])\n"
   ]
  },
  {
   "cell_type": "code",
   "execution_count": 43,
   "id": "9ef0a1b6",
   "metadata": {},
   "outputs": [
    {
     "name": "stdout",
     "output_type": "stream",
     "text": [
      "             Wins  Draws  Losses  Goals Scored  Goals Conceded  Total Matches  \\\n",
      "Brazil        586    187     126          1916             720            899   \n",
      "Spain         385    151     115          1284             542            651   \n",
      "Germany       461    171     149          1657             786            781   \n",
      "Iran          303    132     102          1016             423            537   \n",
      "England       423    202     133          1445             621            758   \n",
      "...           ...    ...     ...           ...             ...            ...   \n",
      "Peru          191    152     262           697             842            605   \n",
      "El Salvador   166    124     239           598             754            529   \n",
      "Singapore     177    111     292           760            1081            580   \n",
      "Finland       170    138     311           656            1063            619   \n",
      "Tanzania      151    164     239           612             807            554   \n",
      "\n",
      "             Win Ratio  Draw Ratio  Loss Ratio  \n",
      "Brazil        0.651835    0.208009    0.140156  \n",
      "Spain         0.591398    0.231951    0.176651  \n",
      "Germany       0.590269    0.218950    0.190781  \n",
      "Iran          0.564246    0.245810    0.189944  \n",
      "England       0.558047    0.266491    0.175462  \n",
      "...                ...         ...         ...  \n",
      "Peru          0.315702    0.251240    0.433058  \n",
      "El Salvador   0.313800    0.234405    0.451796  \n",
      "Singapore     0.305172    0.191379    0.503448  \n",
      "Finland       0.274637    0.222940    0.502423  \n",
      "Tanzania      0.272563    0.296029    0.431408  \n",
      "\n",
      "[70 rows x 9 columns]\n"
     ]
    }
   ],
   "source": [
    "import pandas as pd\n",
    "\n",
    "# Filter matches played since 1955\n",
    "df_since_1955 = df[pd.to_datetime(df['date']).dt.year >= 1955]\n",
    "\n",
    "# Calculate team statistics\n",
    "team_statistics = {}\n",
    "\n",
    "# Iterate through each match since 1955\n",
    "for index, match in df_since_1955.iterrows():\n",
    "    home_team = match['home_team']\n",
    "    away_team = match['away_team']\n",
    "    home_score = match['home_score']\n",
    "    away_score = match['away_score']\n",
    "    winner = match['winning_team']\n",
    "    \n",
    "    # Update home team statistics\n",
    "    if home_team not in team_statistics:\n",
    "        team_statistics[home_team] = {'Wins': 0, 'Draws': 0, 'Losses': 0, 'Goals Scored': 0, 'Goals Conceded': 0, 'Total Matches': 0}\n",
    "    if winner == 'Home':\n",
    "        team_statistics[home_team]['Wins'] += 1\n",
    "    elif winner == 'Draw':\n",
    "        team_statistics[home_team]['Draws'] += 1\n",
    "    else:\n",
    "        team_statistics[home_team]['Losses'] += 1\n",
    "    team_statistics[home_team]['Goals Scored'] += home_score\n",
    "    team_statistics[home_team]['Goals Conceded'] += away_score\n",
    "    team_statistics[home_team]['Total Matches'] += 1\n",
    "    \n",
    "    # Update away team statistics\n",
    "    if away_team not in team_statistics:\n",
    "        team_statistics[away_team] = {'Wins': 0, 'Draws': 0, 'Losses': 0, 'Goals Scored': 0, 'Goals Conceded': 0, 'Total Matches': 0}\n",
    "    if winner == 'Away':\n",
    "        team_statistics[away_team]['Wins'] += 1\n",
    "    elif winner == 'Draw':\n",
    "        team_statistics[away_team]['Draws'] += 1\n",
    "    else:\n",
    "        team_statistics[away_team]['Losses'] += 1\n",
    "    team_statistics[away_team]['Goals Scored'] += away_score\n",
    "    team_statistics[away_team]['Goals Conceded'] += home_score\n",
    "    team_statistics[away_team]['Total Matches'] += 1\n",
    "\n",
    "# Convert team statistics to DataFrame\n",
    "team_df = pd.DataFrame(team_statistics).transpose()\n",
    "\n",
    "# Filter out teams with less than 500 matches\n",
    "team_df = team_df[team_df['Total Matches'] >= 500]\n",
    "\n",
    "# Calculate additional metrics\n",
    "team_df['Win Ratio'] = team_df['Wins'] / team_df['Total Matches']\n",
    "team_df['Draw Ratio'] = team_df['Draws'] / team_df['Total Matches']\n",
    "team_df['Loss Ratio'] = team_df['Losses'] / team_df['Total Matches']\n",
    "\n",
    "# Sort DataFrame by win ratio (descending order) to find most successful teams\n",
    "most_successful_teams = team_df.sort_values(by='Win Ratio', ascending=False)\n",
    "\n",
    "# Display most successful teams\n",
    "print(most_successful_teams[['Wins', 'Draws', 'Losses', 'Goals Scored', 'Goals Conceded', 'Total Matches', 'Win Ratio', 'Draw Ratio', 'Loss Ratio']])\n"
   ]
  },
  {
   "cell_type": "code",
   "execution_count": 44,
   "id": "6f65ab23",
   "metadata": {},
   "outputs": [
    {
     "name": "stdout",
     "output_type": "stream",
     "text": [
      "              Wins  Draws  Losses  Goals Scored  Goals Conceded  \\\n",
      "Brazil         586    187     126          1916             720   \n",
      "Spain          385    151     115          1284             542   \n",
      "Germany        461    171     149          1657             786   \n",
      "Iran           303    132     102          1016             423   \n",
      "England        423    202     133          1445             621   \n",
      "France         376    161     146          1231             643   \n",
      "Netherlands    354    151     144          1291             615   \n",
      "Argentina      416    205     158          1369             758   \n",
      "Italy          356    194     123          1084             557   \n",
      "South Korea    479    236     191          1580             788   \n",
      "Portugal       310    136     142          1050             570   \n",
      "Russia         365    187     159          1220             664   \n",
      "Mexico         465    219     229          1556             908   \n",
      "Egypt          344    168     170          1096             656   \n",
      "Ivory Coast    297    154     140           965             606   \n",
      "Australia      258    114     144           992             529   \n",
      "Japan          334    151     198          1203             754   \n",
      "Belgium        287    127     173          1000             688   \n",
      "Sweden         366    178     212          1228             794   \n",
      "Saudi Arabia   324    153     199          1058             706   \n",
      "\n",
      "              Total Matches  Win Ratio  Draw Ratio  Loss Ratio  \n",
      "Brazil                  899   0.651835    0.208009    0.140156  \n",
      "Spain                   651   0.591398    0.231951    0.176651  \n",
      "Germany                 781   0.590269    0.218950    0.190781  \n",
      "Iran                    537   0.564246    0.245810    0.189944  \n",
      "England                 758   0.558047    0.266491    0.175462  \n",
      "France                  683   0.550512    0.235725    0.213763  \n",
      "Netherlands             649   0.545455    0.232666    0.221880  \n",
      "Argentina               779   0.534018    0.263158    0.202824  \n",
      "Italy                   673   0.528975    0.288262    0.182764  \n",
      "South Korea             906   0.528698    0.260486    0.210817  \n",
      "Portugal                588   0.527211    0.231293    0.241497  \n",
      "Russia                  711   0.513361    0.263010    0.223629  \n",
      "Mexico                  913   0.509310    0.239869    0.250821  \n",
      "Egypt                   682   0.504399    0.246334    0.249267  \n",
      "Ivory Coast             591   0.502538    0.260575    0.236887  \n",
      "Australia               516   0.500000    0.220930    0.279070  \n",
      "Japan                   683   0.489019    0.221083    0.289898  \n",
      "Belgium                 587   0.488927    0.216354    0.294719  \n",
      "Sweden                  756   0.484127    0.235450    0.280423  \n",
      "Saudi Arabia            676   0.479290    0.226331    0.294379  \n"
     ]
    }
   ],
   "source": [
    "# Display only the top 20 most successful teams\n",
    "top_20_teams = most_successful_teams.head(20)\n",
    "print(top_20_teams[['Wins', 'Draws', 'Losses', 'Goals Scored', 'Goals Conceded', 'Total Matches', 'Win Ratio', 'Draw Ratio', 'Loss Ratio']])\n"
   ]
  },
  {
   "cell_type": "code",
   "execution_count": 46,
   "id": "9795c65a",
   "metadata": {},
   "outputs": [
    {
     "name": "stdout",
     "output_type": "stream",
     "text": [
      "             Wins  Draws  Losses  Goals Scored  Goals Conceded  Total Matches  \\\n",
      "Brazil         76     19      19           237             108            114   \n",
      "Germany        68     21      23           232             130            112   \n",
      "Netherlands    30     14      11            96              52             55   \n",
      "Italy          45     21      17           128              77             83   \n",
      "France         39     14      20           136              85             73   \n",
      "Argentina      47     17      24           152             101             88   \n",
      "Turkey          5      1       4            20              17             10   \n",
      "Portugal       17      6      12            61              41             35   \n",
      "Hungary        15      3      14            87              57             32   \n",
      "Spain          31     17      19           108              75             67   \n",
      "Poland         17      6      15            49              50             38   \n",
      "Croatia        13      8       9            43              33             30   \n",
      "England        32     22      20           104              68             74   \n",
      "Yugoslavia     14      7      12            55              42             33   \n",
      "Uruguay        25     13      21            89              76             59   \n",
      "Russia         19     10      16            77              54             45   \n",
      "Senegal         5      3       4            16              17             12   \n",
      "Austria        12      4      13            43              47             29   \n",
      "Belgium        21     10      20            69              74             51   \n",
      "Colombia        9      3      10            32              30             22   \n",
      "\n",
      "             Win Ratio  Draw Ratio  Loss Ratio  \n",
      "Brazil        0.666667    0.166667    0.166667  \n",
      "Germany       0.607143    0.187500    0.205357  \n",
      "Netherlands   0.545455    0.254545    0.200000  \n",
      "Italy         0.542169    0.253012    0.204819  \n",
      "France        0.534247    0.191781    0.273973  \n",
      "Argentina     0.534091    0.193182    0.272727  \n",
      "Turkey        0.500000    0.100000    0.400000  \n",
      "Portugal      0.485714    0.171429    0.342857  \n",
      "Hungary       0.468750    0.093750    0.437500  \n",
      "Spain         0.462687    0.253731    0.283582  \n",
      "Poland        0.447368    0.157895    0.394737  \n",
      "Croatia       0.433333    0.266667    0.300000  \n",
      "England       0.432432    0.297297    0.270270  \n",
      "Yugoslavia    0.424242    0.212121    0.363636  \n",
      "Uruguay       0.423729    0.220339    0.355932  \n",
      "Russia        0.422222    0.222222    0.355556  \n",
      "Senegal       0.416667    0.250000    0.333333  \n",
      "Austria       0.413793    0.137931    0.448276  \n",
      "Belgium       0.411765    0.196078    0.392157  \n",
      "Colombia      0.409091    0.136364    0.454545  \n"
     ]
    }
   ],
   "source": [
    "import pandas as pd\n",
    "\n",
    "# Filter World Cup matches\n",
    "world_cup_matches = df[df['tournament'] == 'FIFA World Cup']\n",
    "\n",
    "# Calculate team statistics\n",
    "team_statistics = {}\n",
    "\n",
    "# Iterate through each World Cup match\n",
    "for index, match in world_cup_matches.iterrows():\n",
    "    home_team = match['home_team']\n",
    "    away_team = match['away_team']\n",
    "    home_score = match['home_score']\n",
    "    away_score = match['away_score']\n",
    "    winner = match['winning_team']\n",
    "    \n",
    "    # Update home team statistics\n",
    "    if home_team not in team_statistics:\n",
    "        team_statistics[home_team] = {'Wins': 0, 'Draws': 0, 'Losses': 0, 'Goals Scored': 0, 'Goals Conceded': 0, 'Total Matches': 0}\n",
    "    if winner == 'Home':\n",
    "        team_statistics[home_team]['Wins'] += 1\n",
    "    elif winner == 'Draw':\n",
    "        team_statistics[home_team]['Draws'] += 1\n",
    "    else:\n",
    "        team_statistics[home_team]['Losses'] += 1\n",
    "    team_statistics[home_team]['Goals Scored'] += home_score\n",
    "    team_statistics[home_team]['Goals Conceded'] += away_score\n",
    "    team_statistics[home_team]['Total Matches'] += 1\n",
    "    \n",
    "    # Update away team statistics\n",
    "    if away_team not in team_statistics:\n",
    "        team_statistics[away_team] = {'Wins': 0, 'Draws': 0, 'Losses': 0, 'Goals Scored': 0, 'Goals Conceded': 0, 'Total Matches': 0}\n",
    "    if winner == 'Away':\n",
    "        team_statistics[away_team]['Wins'] += 1\n",
    "    elif winner == 'Draw':\n",
    "        team_statistics[away_team]['Draws'] += 1\n",
    "    else:\n",
    "        team_statistics[away_team]['Losses'] += 1\n",
    "    team_statistics[away_team]['Goals Scored'] += away_score\n",
    "    team_statistics[away_team]['Goals Conceded'] += home_score\n",
    "    team_statistics[away_team]['Total Matches'] += 1\n",
    "\n",
    "# Convert team statistics to DataFrame\n",
    "team_df = pd.DataFrame(team_statistics).transpose()\n",
    "\n",
    "# Calculate additional metrics\n",
    "team_df['Win Ratio'] = team_df['Wins'] / team_df['Total Matches']\n",
    "team_df['Draw Ratio'] = team_df['Draws'] / team_df['Total Matches']\n",
    "team_df['Loss Ratio'] = team_df['Losses'] / team_df['Total Matches']\n",
    "\n",
    "# Sort DataFrame by win ratio (descending order) to find most successful teams\n",
    "most_successful_teams_world_cup = team_df.sort_values(by='Win Ratio', ascending=False)\n",
    "\n",
    "# Display only the top 20 most successful World Cup teams\n",
    "top_20_teams_world_cup = most_successful_teams_world_cup.head(20)\n",
    "print(top_20_teams_world_cup[['Wins', 'Draws', 'Losses', 'Goals Scored', 'Goals Conceded', 'Total Matches', 'Win Ratio', 'Draw Ratio', 'Loss Ratio']])\n"
   ]
  },
  {
   "cell_type": "code",
   "execution_count": 47,
   "id": "1bdac8ec",
   "metadata": {},
   "outputs": [
    {
     "data": {
      "image/png": "[encoded data removed]",
      "text/plain": [
       "<Figure size 1000x800 with 1 Axes>"
      ]
     },
     "metadata": {},
     "output_type": "display_data"
    }
   ],
   "source": [
    "import matplotlib.pyplot as plt\n",
    "\n",
    "# Top 20 most successful World Cup teams\n",
    "top_20_teams_world_cup = most_successful_teams_world_cup.head(20)\n",
    "\n",
    "# Create horizontal bar chart\n",
    "plt.figure(figsize=(10, 8))\n",
    "plt.barh(top_20_teams_world_cup.index, top_20_teams_world_cup['Win Ratio'], color='skyblue')\n",
    "plt.xlabel('Win Ratio')\n",
    "plt.ylabel('Team')\n",
    "plt.title('Top 20 Most Successful World Cup Teams (Based on Win Ratio)')\n",
    "plt.gca().invert_yaxis()  # Invert y-axis to display highest win ratio at the top\n",
    "plt.grid(axis='x', linestyle='--', alpha=0.7)\n",
    "plt.show()\n",
    "\n"
   ]
  },
  {
   "cell_type": "code",
   "execution_count": 60,
   "id": "a90d8507",
   "metadata": {},
   "outputs": [
    {
     "name": "stdout",
     "output_type": "stream",
     "text": [
      "Argentina    0.927676\n",
      "Paraguay     0.918206\n",
      "Uruguay      0.908316\n",
      "Peru         0.902985\n",
      "Brazil       0.902132\n",
      "Chile        0.900867\n",
      "Ecuador      0.889483\n",
      "Colombia     0.888889\n",
      "Bolivia      0.866534\n",
      "England      0.865911\n",
      "dtype: float64\n"
     ]
    }
   ],
   "source": [
    "# Calculate total matches played by each team\n",
    "total_matches = df['home_team'].value_counts() + df['away_team'].value_counts()\n",
    "\n",
    "# Filter out teams that have played less than 100 matches overall\n",
    "teams_over_100_matches = total_matches[total_matches >= 500].index\n",
    "\n",
    "# Filter the original DataFrame based on teams that have played more than 100 matches\n",
    "df_filtered = df[df['home_team'].isin(teams_over_100_matches) & df['away_team'].isin(teams_over_100_matches)]\n",
    "\n",
    "# Concatenate home and away matches for each team\n",
    "matches_by_team = pd.concat([df_filtered['home_team'], df_filtered['away_team']])\n",
    "\n",
    "# Calculate total matches won by each team\n",
    "total_matches_won = matches_by_team.value_counts()\n",
    "\n",
    "# Calculate total matches played by each team\n",
    "total_matches_played = total_matches.loc[total_matches_won.index]\n",
    "\n",
    "# Calculate the percentage of total matches won by each team\n",
    "percentage_won = (total_matches_won / total_matches_played).sort_values(ascending=False)\n",
    "\n",
    "# Select the top 10 teams based on the percentage of total matches won\n",
    "top_10_teams_percentage_won = percentage_won.head(10)\n",
    "\n",
    "# Print the top 10 teams\n",
    "print(top_10_teams_percentage_won)\n"
   ]
  },
  {
   "cell_type": "code",
   "execution_count": 64,
   "id": "883d5b6e",
   "metadata": {},
   "outputs": [
    {
     "name": "stdout",
     "output_type": "stream",
     "text": [
      "Argentina    0.848101\n",
      "Brazil       0.845905\n",
      "Colombia     0.833333\n",
      "Chile        0.818436\n",
      "Uruguay      0.816783\n",
      "Peru         0.811290\n",
      "England      0.807259\n",
      "Ecuador      0.806513\n",
      "Paraguay     0.788432\n",
      "Germany      0.779012\n",
      "dtype: float64\n"
     ]
    }
   ],
   "source": [
    "# Filter matches played since 1950\n",
    "df_since_1950 = df[pd.to_datetime(df['date']).dt.year >= 1950]\n",
    "\n",
    "# Calculate total matches played by each team\n",
    "total_matches = df_since_1950['home_team'].value_counts() + df_since_1950['away_team'].value_counts()\n",
    "\n",
    "# Filter out teams that have played less than 500 matches overall\n",
    "teams_over_500_matches = total_matches[total_matches >= 500].index\n",
    "\n",
    "# Filter the original DataFrame based on teams that have played more than 500 matches since 1950\n",
    "df_filtered = df_since_1950[df_since_1950['home_team'].isin(teams_over_500_matches) & df_since_1950['away_team'].isin(teams_over_500_matches)]\n",
    "\n",
    "# Concatenate home and away matches for each team\n",
    "matches_by_team = pd.concat([df_filtered['home_team'], df_filtered['away_team']])\n",
    "\n",
    "# Calculate total matches won by each team\n",
    "total_matches_won = matches_by_team.value_counts()\n",
    "\n",
    "# Calculate total matches played by each team\n",
    "total_matches_played = total_matches.loc[total_matches_won.index]\n",
    "\n",
    "# Calculate the percentage of total matches won by each team\n",
    "percentage_won = (total_matches_won / total_matches_played).sort_values(ascending=False)\n",
    "\n",
    "# Select the top 10 teams based on the percentage of total matches won\n",
    "top_10_teams_percentage_won = percentage_won.head(10)\n",
    "\n",
    "# Print the top 10 teams\n",
    "print(top_10_teams_percentage_won)\n"
   ]
  },
  {
   "cell_type": "code",
   "execution_count": 65,
   "id": "0a651ec2",
   "metadata": {},
   "outputs": [
    {
     "data": {
      "image/png": "[encoded data removed]",
      "text/plain": [
       "<Figure size 1000x600 with 1 Axes>"
      ]
     },
     "metadata": {},
     "output_type": "display_data"
    }
   ],
   "source": [
    "import matplotlib.pyplot as plt\n",
    "\n",
    "# Plotting the top 10 teams based on percentage of matches won since 1950\n",
    "plt.figure(figsize=(10, 6))\n",
    "top_10_teams_percentage_won.plot(kind='bar', color='skyblue')\n",
    "plt.title('Top 10 Teams by Percentage of Matches Won Since 1950')\n",
    "plt.xlabel('Team')\n",
    "plt.ylabel('Percentage of Matches Won')\n",
    "plt.xticks(rotation=45, ha='right')\n",
    "plt.tight_layout()\n",
    "plt.show()\n"
   ]
  },
  {
   "cell_type": "code",
   "execution_count": null,
   "id": "05ddde12",
   "metadata": {},
   "outputs": [],
   "source": []
  }
 ],
 "metadata": {
  "kernelspec": {
   "display_name": "Python 3 (ipykernel)",
   "language": "python",
   "name": "python3"
  },
  "language_info": {
   "codemirror_mode": {
    "name": "ipython",
    "version": 3
   },
   "file_extension": ".py",
   "mimetype": "text/x-python",
   "name": "python",
   "nbconvert_exporter": "python",
   "pygments_lexer": "ipython3",
   "version": "3.10.6"
  },
  "toc": {
   "base_numbering": 1,
   "nav_menu": {},
   "number_sections": true,
   "sideBar": true,
   "skip_h1_title": false,
   "title_cell": "Table of Contents",
   "title_sidebar": "Contents",
   "toc_cell": false,
   "toc_position": {},
   "toc_section_display": true,
   "toc_window_display": false
  }
 },
 "nbformat": 4,
 "nbformat_minor": 5
}
