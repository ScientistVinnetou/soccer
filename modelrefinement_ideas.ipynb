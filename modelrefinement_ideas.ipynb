{
 "cells": [
  {
   "cell_type": "markdown",
   "id": "2ed97275",
   "metadata": {},
   "source": [
    "Ideas here are from this Kaggle notebook https://www.kaggle.com/code/sslp23/predicting-fifa-2022-world-cup-with-ml"
   ]
  },
  {
   "cell_type": "markdown",
   "id": "3adac0ba",
   "metadata": {},
   "source": [
    "First of all, the author, on top of using our dataset https://www.kaggle.com/datasets/martj42/international-football-results-from-1872-to-2017, is also using"
   ]
  },
  {
   "cell_type": "markdown",
   "id": "85c948be",
   "metadata": {},
   "source": [
    "Fifa World Cup Rankings 1992-2023 \n",
    "https://www.kaggle.com/datasets/cashncarry/fifaworldranking\n",
    "\n",
    "    "
   ]
  },
  {
   "cell_type": "markdown",
   "id": "f534c5be",
   "metadata": {},
   "source": [
    "Code for uploading Fifa rankings and merging them with the other dataset"
   ]
  },
  {
   "cell_type": "code",
   "execution_count": 2,
   "id": "ed21276b",
   "metadata": {},
   "outputs": [
    {
     "ename": "NameError",
     "evalue": "name 'pd' is not defined",
     "output_type": "error",
     "traceback": [
      "\u001b[0;31m---------------------------------------------------------------------------\u001b[0m",
      "\u001b[0;31mNameError\u001b[0m                                 Traceback (most recent call last)",
      "Cell \u001b[0;32mIn [2], line 1\u001b[0m\n\u001b[0;32m----> 1\u001b[0m rank \u001b[38;5;241m=\u001b[39m \u001b[43mpd\u001b[49m\u001b[38;5;241m.\u001b[39mread_csv(\u001b[38;5;124m\"\u001b[39m\u001b[38;5;124m../input/fifaworldranking/fifa_ranking-2022-10-06.csv\u001b[39m\u001b[38;5;124m\"\u001b[39m) \u001b[38;5;66;03m# may have to change to reflect latest fifa dataset!!\u001b[39;00m\n\u001b[1;32m      2\u001b[0m rank[\u001b[38;5;124m\"\u001b[39m\u001b[38;5;124mrank_date\u001b[39m\u001b[38;5;124m\"\u001b[39m] \u001b[38;5;241m=\u001b[39m pd\u001b[38;5;241m.\u001b[39mto_datetime(rank[\u001b[38;5;124m\"\u001b[39m\u001b[38;5;124mrank_date\u001b[39m\u001b[38;5;124m\"\u001b[39m])\n\u001b[1;32m      3\u001b[0m rank \u001b[38;5;241m=\u001b[39m rank[(rank[\u001b[38;5;124m\"\u001b[39m\u001b[38;5;124mrank_date\u001b[39m\u001b[38;5;124m\"\u001b[39m] \u001b[38;5;241m>\u001b[39m\u001b[38;5;241m=\u001b[39m \u001b[38;5;124m\"\u001b[39m\u001b[38;5;124m2018-8-1\u001b[39m\u001b[38;5;124m\"\u001b[39m)]\u001b[38;5;241m.\u001b[39mreset_index(drop\u001b[38;5;241m=\u001b[39m\u001b[38;5;28;01mTrue\u001b[39;00m)\n",
      "\u001b[0;31mNameError\u001b[0m: name 'pd' is not defined"
     ]
    }
   ],
   "source": [
    "rank = pd.read_csv(\"../input/fifaworldranking/fifa_ranking-2022-10-06.csv\") # may have to change to reflect latest fifa dataset!!\n",
    "rank[\"rank_date\"] = pd.to_datetime(rank[\"rank_date\"])\n",
    "rank = rank[(rank[\"rank_date\"] >= \"2018-8-1\")].reset_index(drop=True)\n",
    "# Some teams in the World Cup have different names in the ranking's dataset. So, it's needed to adjust.\n",
    "rank[\"country_full\"] = rank[\"country_full\"].str.replace(\"IR Iran\", \"Iran\").str.replace(\"Korea Republic\", \"South Korea\").str.replace(\"USA\", \"United States\")"
   ]
  },
  {
   "cell_type": "markdown",
   "id": "b11b0686",
   "metadata": {},
   "source": [
    "Cells for merging the two sets"
   ]
  },
  {
   "cell_type": "code",
   "execution_count": null,
   "id": "8083d223",
   "metadata": {},
   "outputs": [],
   "source": [
    "rank = rank.set_index(['rank_date']).groupby(['country_full'], group_keys=False).resample('D').first().fillna(method='ffill').reset_index()\n"
   ]
  },
  {
   "cell_type": "code",
   "execution_count": null,
   "id": "aeb5af40",
   "metadata": {},
   "outputs": [],
   "source": [
    "df_wc_ranked = df.merge(rank[[\"country_full\", \"total_points\", \"previous_points\", \"rank\", \"rank_change\", \"rank_date\"]], left_on=[\"date\", \"home_team\"], right_on=[\"rank_date\", \"country_full\"]).drop([\"rank_date\", \"country_full\"], axis=1)\n",
    "\n",
    "df_wc_ranked = df_wc_ranked.merge(rank[[\"country_full\", \"total_points\", \"previous_points\", \"rank\", \"rank_change\", \"rank_date\"]], left_on=[\"date\", \"away_team\"], right_on=[\"rank_date\", \"country_full\"], suffixes=(\"_home\", \"_away\")).drop([\"rank_date\", \"country_full\"], axis=1)\n"
   ]
  },
  {
   "cell_type": "code",
   "execution_count": null,
   "id": "0ed0b942",
   "metadata": {},
   "outputs": [],
   "source": [
    "df_wc_ranked[(df_wc_ranked.home_team == \"Brazil\") | (df_wc_ranked.away_team == \"Brazil\")].tail(10)\n"
   ]
  },
  {
   "cell_type": "markdown",
   "id": "402af6f7",
   "metadata": {},
   "source": [
    "He then goes on to create additional features but I do not fully understand it...if we want to use it we will need to look at it together - but here are the predictive features he is ultimately using: https://www.kaggle.com/code/sslp23/predicting-fifa-2022-world-cup-with-ml?scriptVersionId=111479915&cellId=35"
   ]
  },
  {
   "cell_type": "markdown",
   "id": "a91eaf8a",
   "metadata": {},
   "source": [
    "Data Analysis on which features have predictive powers starts here: https://www.kaggle.com/code/sslp23/predicting-fifa-2022-world-cup-with-ml?scriptVersionId=111479915&cellId=56"
   ]
  },
  {
   "cell_type": "markdown",
   "id": "3439b6d2",
   "metadata": {},
   "source": [
    "Modeling: he is using Random Forest and Gradient Boosting https://www.kaggle.com/code/sslp23/predicting-fifa-2022-world-cup-with-ml?scriptVersionId=111479915&cellId=85 - he finds that Random Forest is a bit better but underfitting so he is using Gradient Boosting eventually"
   ]
  },
  {
   "cell_type": "markdown",
   "id": "91428259",
   "metadata": {},
   "source": [
    "****************************************************************************************************************************************************************************************************************************************************************"
   ]
  },
  {
   "cell_type": "markdown",
   "id": "8365767b",
   "metadata": {},
   "source": [
    "Different notebook here: https://www.kaggle.com/code/joaopdrg/the-history-of-international-football -- also won a Gold medal but its only analysis - interesting but not much to learn from for our purposes"
   ]
  },
  {
   "cell_type": "markdown",
   "id": "602c069f",
   "metadata": {},
   "source": [
    "****************************************************************************************************************************************"
   ]
  },
  {
   "cell_type": "markdown",
   "id": "0931c39e",
   "metadata": {},
   "source": [
    "Here is another interesting notebook in terms of creating predictive features: https://www.kaggle.com/code/abdelwahabkamal/worldcup-22-match-prediction-gradient-boosting-83\n",
    "\n",
    "Here are the final features that he is using: https://www.kaggle.com/code/abdelwahabkamal/worldcup-22-match-prediction-gradient-boosting-83?scriptVersionId=111102895&cellId=59\n",
    "\n"
   ]
  },
  {
   "cell_type": "markdown",
   "id": "69145b75",
   "metadata": {},
   "source": [
    "******************************************************************"
   ]
  },
  {
   "cell_type": "markdown",
   "id": "76a3cecc",
   "metadata": {},
   "source": [
    "Interesting notebook in terms of processing: https://www.kaggle.com/code/mehedithedreamer/discover-wizardry-predict-football-results \n",
    "Automate ML Pipeline: https://www.kaggle.com/code/mehedithedreamer/discover-wizardry-predict-football-results?scriptVersionId=163999721&cellId=126\n"
   ]
  },
  {
   "cell_type": "code",
   "execution_count": null,
   "id": "d0481013",
   "metadata": {},
   "outputs": [],
   "source": []
  },
  {
   "cell_type": "code",
   "execution_count": null,
   "id": "32292029",
   "metadata": {},
   "outputs": [],
   "source": []
  },
  {
   "cell_type": "code",
   "execution_count": null,
   "id": "79a29934",
   "metadata": {},
   "outputs": [],
   "source": []
  }
 ],
 "metadata": {
  "kernelspec": {
   "display_name": "Python 3 (ipykernel)",
   "language": "python",
   "name": "python3"
  },
  "language_info": {
   "codemirror_mode": {
    "name": "ipython",
    "version": 3
   },
   "file_extension": ".py",
   "mimetype": "text/x-python",
   "name": "python",
   "nbconvert_exporter": "python",
   "pygments_lexer": "ipython3",
   "version": "3.10.6"
  },
  "toc": {
   "base_numbering": 1,
   "nav_menu": {},
   "number_sections": true,
   "sideBar": true,
   "skip_h1_title": false,
   "title_cell": "Table of Contents",
   "title_sidebar": "Contents",
   "toc_cell": false,
   "toc_position": {},
   "toc_section_display": true,
   "toc_window_display": false
  }
 },
 "nbformat": 4,
 "nbformat_minor": 5
}
